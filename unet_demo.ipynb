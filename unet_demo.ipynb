{
  "nbformat": 4,
  "nbformat_minor": 0,
  "metadata": {
    "colab": {
      "name": "unet-demo.ipynb",
      "provenance": [],
      "collapsed_sections": [],
      "authorship_tag": "ABX9TyOZxmpeonamn13jdxFOei69",
      "include_colab_link": true
    },
    "kernelspec": {
      "name": "python3",
      "display_name": "Python 3"
    }
  },
  "cells": [
    {
      "cell_type": "markdown",
      "metadata": {
        "id": "view-in-github",
        "colab_type": "text"
      },
      "source": [
        "<a href=\"https://colab.research.google.com/github/tungmqse/image-semantic-segmentation/blob/master/unet_demo.ipynb\" target=\"_parent\"><img src=\"https://colab.research.google.com/assets/colab-badge.svg\" alt=\"Open In Colab\"/></a>"
      ]
    },
    {
      "cell_type": "code",
      "metadata": {
        "id": "9OzmMIWna_nW",
        "colab_type": "code",
        "colab": {}
      },
      "source": [
        "# Import libraries"
      ],
      "execution_count": null,
      "outputs": []
    },
    {
      "cell_type": "code",
      "metadata": {
        "id": "L0JTpEp-bLby",
        "colab_type": "code",
        "colab": {}
      },
      "source": [
        "# Load data"
      ],
      "execution_count": null,
      "outputs": []
    },
    {
      "cell_type": "code",
      "metadata": {
        "id": "fHPSCAVhcWbj",
        "colab_type": "code",
        "colab": {}
      },
      "source": [
        "# Process data"
      ],
      "execution_count": null,
      "outputs": []
    }
  ]
}