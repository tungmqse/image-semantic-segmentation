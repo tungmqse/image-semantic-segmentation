{
  "nbformat": 4,
  "nbformat_minor": 0,
  "metadata": {
    "colab": {
      "name": "unet-demo.ipynb",
      "provenance": [],
      "collapsed_sections": [],
      "authorship_tag": "ABX9TyNrq57T269ef52NGDfwt8gr",
      "include_colab_link": true
    },
    "kernelspec": {
      "name": "python3",
      "display_name": "Python 3"
    }
  },
  "cells": [
    {
      "cell_type": "markdown",
      "metadata": {
        "id": "view-in-github",
        "colab_type": "text"
      },
      "source": [
        "<a href=\"https://colab.research.google.com/github/tungmqse/image-semantic-segmentation/blob/master/unet_demo.ipynb\" target=\"_parent\"><img src=\"https://colab.research.google.com/assets/colab-badge.svg\" alt=\"Open In Colab\"/></a>"
      ]
    },
    {
      "cell_type": "code",
      "metadata": {
        "id": "9OzmMIWna_nW",
        "colab_type": "code",
        "colab": {}
      },
      "source": [
        "# Import libraries"
      ],
      "execution_count": null,
      "outputs": []
    },
    {
      "cell_type": "code",
      "metadata": {
        "id": "L0JTpEp-bLby",
        "colab_type": "code",
        "colab": {}
      },
      "source": [
        "# Load data"
      ],
      "execution_count": null,
      "outputs": []
    },
    {
      "cell_type": "code",
      "metadata": {
        "id": "fHPSCAVhcWbj",
        "colab_type": "code",
        "colab": {}
      },
      "source": [
        "# Process data"
      ],
      "execution_count": null,
      "outputs": []
    },
    {
      "cell_type": "code",
      "metadata": {
        "id": "HF9VNOfSdAoR",
        "colab_type": "code",
        "colab": {}
      },
      "source": [
        "# Build model"
      ],
      "execution_count": null,
      "outputs": []
    },
    {
      "cell_type": "code",
      "metadata": {
        "id": "dDIQ6iSFdC3-",
        "colab_type": "code",
        "colab": {}
      },
      "source": [
        "# Build callbacks"
      ],
      "execution_count": null,
      "outputs": []
    },
    {
      "cell_type": "code",
      "metadata": {
        "id": "IILC2y2xdTmU",
        "colab_type": "code",
        "colab": {}
      },
      "source": [
        "# Load previous checkpoint"
      ],
      "execution_count": null,
      "outputs": []
    },
    {
      "cell_type": "code",
      "metadata": {
        "id": "5cjzdoS7dJTY",
        "colab_type": "code",
        "colab": {}
      },
      "source": [
        "# Compile & Fit model"
      ],
      "execution_count": null,
      "outputs": []
    },
    {
      "cell_type": "code",
      "metadata": {
        "id": "Es0_oBlydMNY",
        "colab_type": "code",
        "colab": {}
      },
      "source": [
        "# Save model"
      ],
      "execution_count": null,
      "outputs": []
    },
    {
      "cell_type": "code",
      "metadata": {
        "id": "JzcTn49PdRJw",
        "colab_type": "code",
        "colab": {}
      },
      "source": [
        "# Predict specific image"
      ],
      "execution_count": null,
      "outputs": []
    },
    {
      "cell_type": "code",
      "metadata": {
        "id": "jsXT8AYPdaHO",
        "colab_type": "code",
        "colab": {}
      },
      "source": [
        "# Report"
      ],
      "execution_count": null,
      "outputs": []
    },
    {
      "cell_type": "markdown",
      "metadata": {
        "id": "ENC3ivCUc8I1",
        "colab_type": "text"
      },
      "source": [
        "REFERENCE:\n",
        "- https://www.kaggle.com/bulentsiyah/deep-learning-based-semantic-segmentation-keras"
      ]
    }
  ]
}